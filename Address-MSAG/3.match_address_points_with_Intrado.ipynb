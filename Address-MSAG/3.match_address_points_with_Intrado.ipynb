{
 "cells": [
  {
   "cell_type": "code",
   "execution_count": 1,
   "id": "be04dcf8",
   "metadata": {},
   "outputs": [],
   "source": [
    "import compare_MSAG_range as cmp\n",
    "import geopandas as gpd\n",
    "import os\n",
    "import pandas as pd"
   ]
  },
  {
   "cell_type": "code",
   "execution_count": 18,
   "id": "2f8a29ef",
   "metadata": {},
   "outputs": [],
   "source": [
    "gdf = cmp.getAddressPoints()[0]"
   ]
  },
  {
   "cell_type": "code",
   "execution_count": 19,
   "id": "1d94265d",
   "metadata": {},
   "outputs": [],
   "source": [
    "gdf.fillna(\"\", inplace=True)"
   ]
  },
  {
   "cell_type": "code",
   "execution_count": 20,
   "id": "1a4f6ed9",
   "metadata": {
    "scrolled": true
   },
   "outputs": [
    {
     "data": {
      "text/plain": [
       "array(['', 'S', 'N', 'E', 'W', 'SW', 'NW'], dtype=object)"
      ]
     },
     "execution_count": 20,
     "metadata": {},
     "output_type": "execute_result"
    }
   ],
   "source": [
    "gdf.DI.unique()"
   ]
  },
  {
   "cell_type": "code",
   "execution_count": 23,
   "id": "5b68844f",
   "metadata": {},
   "outputs": [
    {
     "data": {
      "text/html": [
       "<div>\n",
       "<style scoped>\n",
       "    .dataframe tbody tr th:only-of-type {\n",
       "        vertical-align: middle;\n",
       "    }\n",
       "\n",
       "    .dataframe tbody tr th {\n",
       "        vertical-align: top;\n",
       "    }\n",
       "\n",
       "    .dataframe thead th {\n",
       "        text-align: right;\n",
       "    }\n",
       "</style>\n",
       "<table border=\"1\" class=\"dataframe\">\n",
       "  <thead>\n",
       "    <tr style=\"text-align: right;\">\n",
       "      <th></th>\n",
       "      <th>ESN</th>\n",
       "      <th>HouseNbr</th>\n",
       "      <th>DI</th>\n",
       "      <th>STREET</th>\n",
       "      <th>STCODE</th>\n",
       "      <th>CITY</th>\n",
       "      <th>GEOM</th>\n",
       "      <th>CTCODE</th>\n",
       "      <th>KEY</th>\n",
       "    </tr>\n",
       "  </thead>\n",
       "  <tbody>\n",
       "    <tr>\n",
       "      <th>0</th>\n",
       "      <td>54</td>\n",
       "      <td>18008</td>\n",
       "      <td></td>\n",
       "      <td>SIUSLAW</td>\n",
       "      <td>RD</td>\n",
       "      <td>WALTON</td>\n",
       "      <td>POINT (4100415.106 836505.844)</td>\n",
       "      <td>WAN</td>\n",
       "      <td>54__SIUSLAW_RD_WAN</td>\n",
       "    </tr>\n",
       "    <tr>\n",
       "      <th>1</th>\n",
       "      <td>56</td>\n",
       "      <td>83908</td>\n",
       "      <td></td>\n",
       "      <td>HWY 101</td>\n",
       "      <td></td>\n",
       "      <td>FLORENCE</td>\n",
       "      <td>POINT (3969716.775 839107.124)</td>\n",
       "      <td>FLO</td>\n",
       "      <td>56__HWY 101__FLO</td>\n",
       "    </tr>\n",
       "    <tr>\n",
       "      <th>2</th>\n",
       "      <td>56</td>\n",
       "      <td>83520</td>\n",
       "      <td></td>\n",
       "      <td>HWY 101</td>\n",
       "      <td></td>\n",
       "      <td>FLORENCE</td>\n",
       "      <td>POINT (3968343.749 835007.831)</td>\n",
       "      <td>FLO</td>\n",
       "      <td>56__HWY 101__FLO</td>\n",
       "    </tr>\n",
       "    <tr>\n",
       "      <th>3</th>\n",
       "      <td>56</td>\n",
       "      <td>83394</td>\n",
       "      <td></td>\n",
       "      <td>HWY 101</td>\n",
       "      <td></td>\n",
       "      <td>FLORENCE</td>\n",
       "      <td>POINT (3968070.590 833992.111)</td>\n",
       "      <td>FLO</td>\n",
       "      <td>56__HWY 101__FLO</td>\n",
       "    </tr>\n",
       "    <tr>\n",
       "      <th>4</th>\n",
       "      <td>56</td>\n",
       "      <td>83380</td>\n",
       "      <td></td>\n",
       "      <td>HWY 101</td>\n",
       "      <td></td>\n",
       "      <td>FLORENCE</td>\n",
       "      <td>POINT (3968010.308 833853.040)</td>\n",
       "      <td>FLO</td>\n",
       "      <td>56__HWY 101__FLO</td>\n",
       "    </tr>\n",
       "  </tbody>\n",
       "</table>\n",
       "</div>"
      ],
      "text/plain": [
       "   ESN  HouseNbr DI   STREET STCODE      CITY                            GEOM  \\\n",
       "0   54     18008     SIUSLAW     RD    WALTON  POINT (4100415.106 836505.844)   \n",
       "1   56     83908     HWY 101         FLORENCE  POINT (3969716.775 839107.124)   \n",
       "2   56     83520     HWY 101         FLORENCE  POINT (3968343.749 835007.831)   \n",
       "3   56     83394     HWY 101         FLORENCE  POINT (3968070.590 833992.111)   \n",
       "4   56     83380     HWY 101         FLORENCE  POINT (3968010.308 833853.040)   \n",
       "\n",
       "  CTCODE                 KEY  \n",
       "0    WAN  54__SIUSLAW_RD_WAN  \n",
       "1    FLO    56__HWY 101__FLO  \n",
       "2    FLO    56__HWY 101__FLO  \n",
       "3    FLO    56__HWY 101__FLO  \n",
       "4    FLO    56__HWY 101__FLO  "
      ]
     },
     "execution_count": 23,
     "metadata": {},
     "output_type": "execute_result"
    }
   ],
   "source": [
    "gdf.head()"
   ]
  },
  {
   "cell_type": "code",
   "execution_count": 5,
   "id": "df71cd3e",
   "metadata": {},
   "outputs": [],
   "source": [
    "intrado = cmp.getIntrado()[2]"
   ]
  },
  {
   "cell_type": "code",
   "execution_count": 7,
   "id": "cd42b102",
   "metadata": {},
   "outputs": [],
   "source": [
    "selectedCols = ['ESN', 'DI', 'STREET', 'STCODE', 'CTCODE']"
   ]
  },
  {
   "cell_type": "code",
   "execution_count": 22,
   "id": "3587b7a1",
   "metadata": {},
   "outputs": [],
   "source": [
    "gdf['KEY'] = gdf[selectedCols].apply(lambda row: str(row.ESN) + '_' + row.DI + '_' + row.STREET + '_' +  row.STCODE + '_' +  row.CTCODE, axis=1)"
   ]
  },
  {
   "cell_type": "code",
   "execution_count": 14,
   "id": "6db65240",
   "metadata": {},
   "outputs": [],
   "source": [
    "intrado['KEY'] = intrado[selectedCols].apply(lambda row: str(row.ESN) + '_' + row.DI + '_' + row.STREET + '_' +  row.STCODE + '_' +  row.CTCODE, axis=1)"
   ]
  },
  {
   "cell_type": "code",
   "execution_count": 15,
   "id": "25d114dc",
   "metadata": {},
   "outputs": [
    {
     "data": {
      "text/html": [
       "<div>\n",
       "<style scoped>\n",
       "    .dataframe tbody tr th:only-of-type {\n",
       "        vertical-align: middle;\n",
       "    }\n",
       "\n",
       "    .dataframe tbody tr th {\n",
       "        vertical-align: top;\n",
       "    }\n",
       "\n",
       "    .dataframe thead th {\n",
       "        text-align: right;\n",
       "    }\n",
       "</style>\n",
       "<table border=\"1\" class=\"dataframe\">\n",
       "  <thead>\n",
       "    <tr style=\"text-align: right;\">\n",
       "      <th></th>\n",
       "      <th>ESN</th>\n",
       "      <th>DI</th>\n",
       "      <th>STREET</th>\n",
       "      <th>STCODE</th>\n",
       "      <th>CTCODE</th>\n",
       "      <th>LOW</th>\n",
       "      <th>HIGH</th>\n",
       "      <th>KEY</th>\n",
       "    </tr>\n",
       "  </thead>\n",
       "  <tbody>\n",
       "    <tr>\n",
       "      <th>0</th>\n",
       "      <td>1</td>\n",
       "      <td>E</td>\n",
       "      <td>10TH</td>\n",
       "      <td>AVE</td>\n",
       "      <td>EUG</td>\n",
       "      <td>55</td>\n",
       "      <td>401</td>\n",
       "      <td>1_E_10TH_AVE_EUG</td>\n",
       "    </tr>\n",
       "    <tr>\n",
       "      <th>7018</th>\n",
       "      <td>1</td>\n",
       "      <td>E</td>\n",
       "      <td>11TH</td>\n",
       "      <td>ALY</td>\n",
       "      <td>EUG</td>\n",
       "      <td>337</td>\n",
       "      <td>337</td>\n",
       "      <td>1_E_11TH_ALY_EUG</td>\n",
       "    </tr>\n",
       "    <tr>\n",
       "      <th>23</th>\n",
       "      <td>1</td>\n",
       "      <td>E</td>\n",
       "      <td>11TH</td>\n",
       "      <td>AVE</td>\n",
       "      <td>EUG</td>\n",
       "      <td>23</td>\n",
       "      <td>950</td>\n",
       "      <td>1_E_11TH_AVE_EUG</td>\n",
       "    </tr>\n",
       "    <tr>\n",
       "      <th>7020</th>\n",
       "      <td>1</td>\n",
       "      <td>E</td>\n",
       "      <td>12TH</td>\n",
       "      <td>ALY</td>\n",
       "      <td>EUG</td>\n",
       "      <td>143</td>\n",
       "      <td>838</td>\n",
       "      <td>1_E_12TH_ALY_EUG</td>\n",
       "    </tr>\n",
       "    <tr>\n",
       "      <th>40</th>\n",
       "      <td>1</td>\n",
       "      <td>E</td>\n",
       "      <td>12TH</td>\n",
       "      <td>AVE</td>\n",
       "      <td>EUG</td>\n",
       "      <td>146</td>\n",
       "      <td>876</td>\n",
       "      <td>1_E_12TH_AVE_EUG</td>\n",
       "    </tr>\n",
       "  </tbody>\n",
       "</table>\n",
       "</div>"
      ],
      "text/plain": [
       "      ESN DI STREET STCODE CTCODE  LOW HIGH               KEY\n",
       "0       1  E   10TH    AVE    EUG   55  401  1_E_10TH_AVE_EUG\n",
       "7018    1  E   11TH    ALY    EUG  337  337  1_E_11TH_ALY_EUG\n",
       "23      1  E   11TH    AVE    EUG   23  950  1_E_11TH_AVE_EUG\n",
       "7020    1  E   12TH    ALY    EUG  143  838  1_E_12TH_ALY_EUG\n",
       "40      1  E   12TH    AVE    EUG  146  876  1_E_12TH_AVE_EUG"
      ]
     },
     "execution_count": 15,
     "metadata": {},
     "output_type": "execute_result"
    }
   ],
   "source": [
    "intrado.head()"
   ]
  },
  {
   "cell_type": "code",
   "execution_count": 16,
   "id": "347f050e",
   "metadata": {},
   "outputs": [
    {
     "data": {
      "text/plain": [
       "6008"
      ]
     },
     "execution_count": 16,
     "metadata": {},
     "output_type": "execute_result"
    }
   ],
   "source": [
    "len(intrado.KEY.unique())"
   ]
  },
  {
   "cell_type": "code",
   "execution_count": 17,
   "id": "2388ee53",
   "metadata": {},
   "outputs": [
    {
     "data": {
      "text/plain": [
       "(7973, 8)"
      ]
     },
     "execution_count": 17,
     "metadata": {},
     "output_type": "execute_result"
    }
   ],
   "source": [
    "intrado.shape"
   ]
  },
  {
   "cell_type": "code",
   "execution_count": 33,
   "id": "d9f6c072",
   "metadata": {},
   "outputs": [
    {
     "data": {
      "text/plain": [
       "5662"
      ]
     },
     "execution_count": 33,
     "metadata": {},
     "output_type": "execute_result"
    }
   ],
   "source": [
    "commonKeys = [key for key in gdf.KEY.unique() if key in intrado.KEY.unique()]\n",
    "len(commonKeys)"
   ]
  },
  {
   "cell_type": "code",
   "execution_count": 25,
   "id": "400bff0c",
   "metadata": {},
   "outputs": [
    {
     "data": {
      "text/plain": [
       "282"
      ]
     },
     "execution_count": 25,
     "metadata": {},
     "output_type": "execute_result"
    }
   ],
   "source": [
    "len([key for key in gdf.KEY.unique() if key not in intrado.KEY.unique()])"
   ]
  },
  {
   "cell_type": "code",
   "execution_count": 28,
   "id": "2cb0cedd",
   "metadata": {},
   "outputs": [
    {
     "data": {
      "text/plain": [
       "346"
      ]
     },
     "execution_count": 28,
     "metadata": {},
     "output_type": "execute_result"
    }
   ],
   "source": [
    "len([key for key in intrado.KEY.unique() if key not in gdf.KEY.unique()])"
   ]
  },
  {
   "cell_type": "code",
   "execution_count": 31,
   "id": "403b0fa9",
   "metadata": {},
   "outputs": [
    {
     "data": {
      "text/plain": [
       "'1_E_25TH_AVE_EUG'"
      ]
     },
     "execution_count": 31,
     "metadata": {},
     "output_type": "execute_result"
    }
   ],
   "source": [
    "intrado[intrado.duplicated(subset=['KEY'])].KEY.values[0]"
   ]
  },
  {
   "cell_type": "code",
   "execution_count": 93,
   "id": "b3830410",
   "metadata": {},
   "outputs": [
    {
     "data": {
      "text/html": [
       "<div>\n",
       "<style scoped>\n",
       "    .dataframe tbody tr th:only-of-type {\n",
       "        vertical-align: middle;\n",
       "    }\n",
       "\n",
       "    .dataframe tbody tr th {\n",
       "        vertical-align: top;\n",
       "    }\n",
       "\n",
       "    .dataframe thead th {\n",
       "        text-align: right;\n",
       "    }\n",
       "</style>\n",
       "<table border=\"1\" class=\"dataframe\">\n",
       "  <thead>\n",
       "    <tr style=\"text-align: right;\">\n",
       "      <th></th>\n",
       "      <th>ESN</th>\n",
       "      <th>DI</th>\n",
       "      <th>STREET</th>\n",
       "      <th>STCODE</th>\n",
       "      <th>CTCODE</th>\n",
       "      <th>LOW</th>\n",
       "      <th>HIGH</th>\n",
       "      <th>KEY</th>\n",
       "    </tr>\n",
       "  </thead>\n",
       "  <tbody>\n",
       "    <tr>\n",
       "      <th>2386</th>\n",
       "      <td>50</td>\n",
       "      <td></td>\n",
       "      <td>FIR</td>\n",
       "      <td>ST</td>\n",
       "      <td>WEL</td>\n",
       "      <td>82855</td>\n",
       "      <td>82878</td>\n",
       "      <td>50__FIR_ST_WEL</td>\n",
       "    </tr>\n",
       "  </tbody>\n",
       "</table>\n",
       "</div>"
      ],
      "text/plain": [
       "      ESN DI STREET STCODE CTCODE    LOW   HIGH             KEY\n",
       "2386   50       FIR     ST    WEL  82855  82878  50__FIR_ST_WEL"
      ]
     },
     "execution_count": 93,
     "metadata": {},
     "output_type": "execute_result"
    }
   ],
   "source": [
    "intrado[intrado.KEY=='50__FIR_ST_WEL']"
   ]
  },
  {
   "cell_type": "code",
   "execution_count": 107,
   "id": "b798a11d",
   "metadata": {},
   "outputs": [],
   "source": [
    "key = '50__FIR_ST_WEL'"
   ]
  },
  {
   "cell_type": "code",
   "execution_count": 94,
   "id": "5b384954",
   "metadata": {},
   "outputs": [],
   "source": [
    "ap_sdf = gdf[gdf.KEY == key]"
   ]
  },
  {
   "cell_type": "code",
   "execution_count": 95,
   "id": "3d1a4db5",
   "metadata": {},
   "outputs": [],
   "source": [
    "hnbr_min = ap_sdf.HouseNbr.values.min()"
   ]
  },
  {
   "cell_type": "code",
   "execution_count": 96,
   "id": "0bf0a40c",
   "metadata": {},
   "outputs": [],
   "source": [
    "hnbr_max = ap_sdf.HouseNbr.values.max()"
   ]
  },
  {
   "cell_type": "code",
   "execution_count": 102,
   "id": "022f827c",
   "metadata": {},
   "outputs": [],
   "source": [
    "ie_sdf = intrado[intrado.KEY==key]"
   ]
  },
  {
   "cell_type": "code",
   "execution_count": 103,
   "id": "d423d543",
   "metadata": {},
   "outputs": [
    {
     "data": {
      "text/plain": [
       "True"
      ]
     },
     "execution_count": 103,
     "metadata": {},
     "output_type": "execute_result"
    }
   ],
   "source": [
    "ie_sdf.shape[0] == 1"
   ]
  },
  {
   "cell_type": "code",
   "execution_count": 104,
   "id": "db4c1d1b",
   "metadata": {},
   "outputs": [
    {
     "data": {
      "text/html": [
       "<div>\n",
       "<style scoped>\n",
       "    .dataframe tbody tr th:only-of-type {\n",
       "        vertical-align: middle;\n",
       "    }\n",
       "\n",
       "    .dataframe tbody tr th {\n",
       "        vertical-align: top;\n",
       "    }\n",
       "\n",
       "    .dataframe thead th {\n",
       "        text-align: right;\n",
       "    }\n",
       "</style>\n",
       "<table border=\"1\" class=\"dataframe\">\n",
       "  <thead>\n",
       "    <tr style=\"text-align: right;\">\n",
       "      <th></th>\n",
       "      <th>ESN</th>\n",
       "      <th>DI</th>\n",
       "      <th>STREET</th>\n",
       "      <th>STCODE</th>\n",
       "      <th>CTCODE</th>\n",
       "      <th>LOW</th>\n",
       "      <th>HIGH</th>\n",
       "      <th>KEY</th>\n",
       "    </tr>\n",
       "  </thead>\n",
       "  <tbody>\n",
       "    <tr>\n",
       "      <th>2386</th>\n",
       "      <td>50</td>\n",
       "      <td></td>\n",
       "      <td>FIR</td>\n",
       "      <td>ST</td>\n",
       "      <td>WEL</td>\n",
       "      <td>82855</td>\n",
       "      <td>82878</td>\n",
       "      <td>50__FIR_ST_WEL</td>\n",
       "    </tr>\n",
       "  </tbody>\n",
       "</table>\n",
       "</div>"
      ],
      "text/plain": [
       "      ESN DI STREET STCODE CTCODE    LOW   HIGH             KEY\n",
       "2386   50       FIR     ST    WEL  82855  82878  50__FIR_ST_WEL"
      ]
     },
     "execution_count": 104,
     "metadata": {},
     "output_type": "execute_result"
    }
   ],
   "source": [
    "ie_sdf"
   ]
  },
  {
   "cell_type": "code",
   "execution_count": 105,
   "id": "0b82748c",
   "metadata": {},
   "outputs": [
    {
     "data": {
      "text/plain": [
       "False"
      ]
     },
     "execution_count": 105,
     "metadata": {},
     "output_type": "execute_result"
    }
   ],
   "source": [
    "hnbr_min >= ie_sdf.LOW.values[0]"
   ]
  },
  {
   "cell_type": "code",
   "execution_count": 106,
   "id": "b3c2de03",
   "metadata": {},
   "outputs": [
    {
     "data": {
      "text/plain": [
       "True"
      ]
     },
     "execution_count": 106,
     "metadata": {},
     "output_type": "execute_result"
    }
   ],
   "source": [
    "hnbr_max <= ie_sdf.HIGH.values[0]"
   ]
  },
  {
   "cell_type": "code",
   "execution_count": 109,
   "id": "b570a1ad",
   "metadata": {},
   "outputs": [
    {
     "data": {
      "text/plain": [
       "82878"
      ]
     },
     "execution_count": 109,
     "metadata": {},
     "output_type": "execute_result"
    }
   ],
   "source": [
    "ie_sdf.HIGH.values[0]"
   ]
  },
  {
   "cell_type": "code",
   "execution_count": 110,
   "id": "e4ad98eb",
   "metadata": {},
   "outputs": [
    {
     "data": {
      "text/plain": [
       "82855"
      ]
     },
     "execution_count": 110,
     "metadata": {},
     "output_type": "execute_result"
    }
   ],
   "source": [
    "ie_sdf.LOW.values[0]"
   ]
  },
  {
   "cell_type": "code",
   "execution_count": 115,
   "id": "e5660089",
   "metadata": {
    "scrolled": true
   },
   "outputs": [
    {
     "data": {
      "text/plain": [
       "320    82855\n",
       "321    82855\n",
       "708    82878\n",
       "712    82872\n",
       "714    82866\n",
       "716    82862\n",
       "797    82855\n",
       "832    82855\n",
       "833    82855\n",
       "834    82855\n",
       "835    82855\n",
       "836    82855\n",
       "837    82855\n",
       "838    82855\n",
       "Name: HouseNbr, dtype: int64"
      ]
     },
     "execution_count": 115,
     "metadata": {},
     "output_type": "execute_result"
    }
   ],
   "source": [
    "gdf.loc[((gdf.KEY == key) & (ie_sdf.HIGH.values[0] >= gdf.HouseNbr) & (gdf.HouseNbr >= ie_sdf.LOW.values[0])), 'HouseNbr']"
   ]
  },
  {
   "cell_type": "code",
   "execution_count": 59,
   "id": "4910c48e",
   "metadata": {},
   "outputs": [],
   "source": [
    "gdf.loc[gdf.KEY == key, 'DIFF'] = 1"
   ]
  },
  {
   "cell_type": "code",
   "execution_count": 60,
   "id": "fa1a7f6e",
   "metadata": {},
   "outputs": [],
   "source": [
    "gdf.loc[gdf.KEY == key, 'MATCH'] = 'Exactly matched'"
   ]
  },
  {
   "cell_type": "code",
   "execution_count": 62,
   "id": "a1b26b1e",
   "metadata": {},
   "outputs": [],
   "source": [
    "key = '1_E_25TH_AVE_EUG'"
   ]
  },
  {
   "cell_type": "code",
   "execution_count": 69,
   "id": "5df90627",
   "metadata": {},
   "outputs": [
    {
     "data": {
      "text/plain": [
       "50"
      ]
     },
     "execution_count": 69,
     "metadata": {},
     "output_type": "execute_result"
    }
   ],
   "source": [
    "hnbr_min "
   ]
  },
  {
   "cell_type": "code",
   "execution_count": 70,
   "id": "3c0f498e",
   "metadata": {},
   "outputs": [
    {
     "data": {
      "text/plain": [
       "3640"
      ]
     },
     "execution_count": 70,
     "metadata": {},
     "output_type": "execute_result"
    }
   ],
   "source": [
    "hnbr_max"
   ]
  },
  {
   "cell_type": "code",
   "execution_count": 74,
   "id": "c2fa0fd3",
   "metadata": {},
   "outputs": [
    {
     "data": {
      "text/plain": [
       "3640"
      ]
     },
     "execution_count": 74,
     "metadata": {},
     "output_type": "execute_result"
    }
   ],
   "source": [
    "ie_sdf.HIGH.values[ie_sdf.shape[0]-1]"
   ]
  },
  {
   "cell_type": "code",
   "execution_count": 73,
   "id": "bc65dd20",
   "metadata": {},
   "outputs": [
    {
     "data": {
      "text/plain": [
       "2"
      ]
     },
     "execution_count": 73,
     "metadata": {},
     "output_type": "execute_result"
    }
   ],
   "source": [
    "ie_sdf.shape[0]"
   ]
  },
  {
   "cell_type": "code",
   "execution_count": 76,
   "id": "8087a837",
   "metadata": {},
   "outputs": [
    {
     "data": {
      "text/plain": [
       "(76, 11)"
      ]
     },
     "execution_count": 76,
     "metadata": {},
     "output_type": "execute_result"
    }
   ],
   "source": [
    "ap_sdf.shape"
   ]
  },
  {
   "cell_type": "code",
   "execution_count": 77,
   "id": "66230fb4",
   "metadata": {},
   "outputs": [
    {
     "data": {
      "text/html": [
       "<div>\n",
       "<style scoped>\n",
       "    .dataframe tbody tr th:only-of-type {\n",
       "        vertical-align: middle;\n",
       "    }\n",
       "\n",
       "    .dataframe tbody tr th {\n",
       "        vertical-align: top;\n",
       "    }\n",
       "\n",
       "    .dataframe thead th {\n",
       "        text-align: right;\n",
       "    }\n",
       "</style>\n",
       "<table border=\"1\" class=\"dataframe\">\n",
       "  <thead>\n",
       "    <tr style=\"text-align: right;\">\n",
       "      <th></th>\n",
       "      <th>ESN</th>\n",
       "      <th>HouseNbr</th>\n",
       "      <th>DI</th>\n",
       "      <th>STREET</th>\n",
       "      <th>STCODE</th>\n",
       "      <th>CITY</th>\n",
       "      <th>GEOM</th>\n",
       "      <th>CTCODE</th>\n",
       "      <th>KEY</th>\n",
       "      <th>DIFF</th>\n",
       "      <th>MATCH</th>\n",
       "    </tr>\n",
       "  </thead>\n",
       "  <tbody>\n",
       "    <tr>\n",
       "      <th>79782</th>\n",
       "      <td>1</td>\n",
       "      <td>95</td>\n",
       "      <td>E</td>\n",
       "      <td>25TH</td>\n",
       "      <td>AVE</td>\n",
       "      <td>EUGENE</td>\n",
       "      <td>POINT (4240235.064 872412.420)</td>\n",
       "      <td>EUG</td>\n",
       "      <td>1_E_25TH_AVE_EUG</td>\n",
       "      <td>NaN</td>\n",
       "      <td>NaN</td>\n",
       "    </tr>\n",
       "    <tr>\n",
       "      <th>79786</th>\n",
       "      <td>1</td>\n",
       "      <td>145</td>\n",
       "      <td>E</td>\n",
       "      <td>25TH</td>\n",
       "      <td>AVE</td>\n",
       "      <td>EUGENE</td>\n",
       "      <td>POINT (4240449.069 872402.181)</td>\n",
       "      <td>EUG</td>\n",
       "      <td>1_E_25TH_AVE_EUG</td>\n",
       "      <td>NaN</td>\n",
       "      <td>NaN</td>\n",
       "    </tr>\n",
       "    <tr>\n",
       "      <th>79788</th>\n",
       "      <td>1</td>\n",
       "      <td>163</td>\n",
       "      <td>E</td>\n",
       "      <td>25TH</td>\n",
       "      <td>AVE</td>\n",
       "      <td>EUGENE</td>\n",
       "      <td>POINT (4240524.951 872399.083)</td>\n",
       "      <td>EUG</td>\n",
       "      <td>1_E_25TH_AVE_EUG</td>\n",
       "      <td>NaN</td>\n",
       "      <td>NaN</td>\n",
       "    </tr>\n",
       "    <tr>\n",
       "      <th>79789</th>\n",
       "      <td>1</td>\n",
       "      <td>195</td>\n",
       "      <td>E</td>\n",
       "      <td>25TH</td>\n",
       "      <td>AVE</td>\n",
       "      <td>EUGENE</td>\n",
       "      <td>POINT (4240588.538 872392.268)</td>\n",
       "      <td>EUG</td>\n",
       "      <td>1_E_25TH_AVE_EUG</td>\n",
       "      <td>NaN</td>\n",
       "      <td>NaN</td>\n",
       "    </tr>\n",
       "    <tr>\n",
       "      <th>79795</th>\n",
       "      <td>1</td>\n",
       "      <td>50</td>\n",
       "      <td>E</td>\n",
       "      <td>25TH</td>\n",
       "      <td>AVE</td>\n",
       "      <td>EUGENE</td>\n",
       "      <td>POINT (4240126.873 872295.902)</td>\n",
       "      <td>EUG</td>\n",
       "      <td>1_E_25TH_AVE_EUG</td>\n",
       "      <td>NaN</td>\n",
       "      <td>NaN</td>\n",
       "    </tr>\n",
       "  </tbody>\n",
       "</table>\n",
       "</div>"
      ],
      "text/plain": [
       "       ESN  HouseNbr DI STREET STCODE    CITY                            GEOM  \\\n",
       "79782    1        95  E   25TH    AVE  EUGENE  POINT (4240235.064 872412.420)   \n",
       "79786    1       145  E   25TH    AVE  EUGENE  POINT (4240449.069 872402.181)   \n",
       "79788    1       163  E   25TH    AVE  EUGENE  POINT (4240524.951 872399.083)   \n",
       "79789    1       195  E   25TH    AVE  EUGENE  POINT (4240588.538 872392.268)   \n",
       "79795    1        50  E   25TH    AVE  EUGENE  POINT (4240126.873 872295.902)   \n",
       "\n",
       "      CTCODE               KEY  DIFF MATCH  \n",
       "79782    EUG  1_E_25TH_AVE_EUG   NaN   NaN  \n",
       "79786    EUG  1_E_25TH_AVE_EUG   NaN   NaN  \n",
       "79788    EUG  1_E_25TH_AVE_EUG   NaN   NaN  \n",
       "79789    EUG  1_E_25TH_AVE_EUG   NaN   NaN  \n",
       "79795    EUG  1_E_25TH_AVE_EUG   NaN   NaN  "
      ]
     },
     "execution_count": 77,
     "metadata": {},
     "output_type": "execute_result"
    }
   ],
   "source": [
    "ap_sdf.head()"
   ]
  },
  {
   "cell_type": "code",
   "execution_count": 85,
   "id": "53dc3574",
   "metadata": {},
   "outputs": [
    {
     "data": {
      "text/plain": [
       "3612"
      ]
     },
     "execution_count": 85,
     "metadata": {},
     "output_type": "execute_result"
    }
   ],
   "source": [
    "ie_sdf.HIGH.values[0]"
   ]
  },
  {
   "cell_type": "code",
   "execution_count": 82,
   "id": "db9cd892",
   "metadata": {},
   "outputs": [],
   "source": [
    "def withinRange(x, ie_sdf):\n",
    "    for i in range(ie_sdf.shape[0]):\n",
    "        if ie_sdf.HIGH.values[i] >= x >= ie_sdf.LOW.values[i]:\n",
    "            diff = 1\n",
    "            match = 'Matched in one of the multiple ranges'\n",
    "            return diff, match\n",
    "    diff = 4\n",
    "    match = 'Outside of one of the multiple ranges'\n",
    "    return diff, match"
   ]
  },
  {
   "cell_type": "code",
   "execution_count": 80,
   "id": "f0ae1bbe",
   "metadata": {},
   "outputs": [
    {
     "data": {
      "text/plain": [
       "[0, 1]"
      ]
     },
     "execution_count": 80,
     "metadata": {},
     "output_type": "execute_result"
    }
   ],
   "source": [
    "list(range(0, ie_sdf.shape[0]))"
   ]
  },
  {
   "cell_type": "code",
   "execution_count": 88,
   "id": "6a51989f",
   "metadata": {},
   "outputs": [
    {
     "data": {
      "text/plain": [
       "79782     1\n",
       "79786     1\n",
       "79788     1\n",
       "79789     1\n",
       "79795     1\n",
       "         ..\n",
       "90761     1\n",
       "133865    1\n",
       "134796    1\n",
       "134800    1\n",
       "134802    1\n",
       "Name: HouseNbr, Length: 76, dtype: int64"
      ]
     },
     "execution_count": 88,
     "metadata": {},
     "output_type": "execute_result"
    }
   ],
   "source": [
    "ap_sdf.HouseNbr.apply(lambda x: withinRange(x, ie_sdf=ie_sdf)[0])"
   ]
  },
  {
   "cell_type": "code",
   "execution_count": 89,
   "id": "339629d8",
   "metadata": {},
   "outputs": [],
   "source": [
    "import timeit"
   ]
  },
  {
   "cell_type": "code",
   "execution_count": 92,
   "id": "20d2e3e5",
   "metadata": {},
   "outputs": [
    {
     "name": "stdout",
     "output_type": "stream",
     "text": [
      "54__SIUSLAW_RD_WAN\n",
      "56__HWY 101__FLO\n",
      "56_S_CANARY_RD_WEL\n",
      "56__ERHART_RD_FLO\n",
      "56__SILTCOOS STATION_RD_WEL\n",
      "56__FIDDLE CREEK_RD_WEL\n",
      "56__SILTCOOS BEACH ACCESS_RD_FLO\n",
      "56__LOWER FIDDLE CREEK_RD_WEL\n",
      "56__LAKE_ST_FLO\n",
      "56__HWY 101__WEL\n",
      "54__JERNIGAN ISLAND__WEL\n",
      "56__3RD_ST_FLO\n",
      "56__SEAVIEW_LN_FLO\n",
      "56__BOY SCOUT_RD_FLO\n",
      "56__MAPLE_DR_FLO\n",
      "50__HWY 101__FLO\n",
      "50__BUCKSKIN BOB__FLO\n",
      "52__BOOTH ISLAND__WEL\n",
      "50__SALAL_CT_FLO\n",
      "50__CLOUD NINE_RD_FLO\n",
      "50__CLEAR LAKE_RD_FLO\n",
      "50__RUSSELL_DR_FLO\n",
      "50__KIECHLE ARM_RD_FLO\n",
      "50__RIO_RD_FLO\n",
      "50__ERHART_RD_FLO\n",
      "50__ALDER_CT_FLO\n",
      "50__WOODLAND_LN_FLO\n",
      "50__JENSEN_LN_FLO\n",
      "50__BERRY_LN_FLO\n",
      "50__MANZANITA_DR_FLO\n",
      "50__SOUTH COVE_WAY_FLO\n",
      "50__BRENTWOOD_DR_FLO\n",
      "50__SOUTH COVE_DR_FLO\n",
      "50_N_PIONEER_RD_FLO\n",
      "50__SPRUCE_LN_FLO\n",
      "50__HILLTOP_DR_FLO\n",
      "50__PARKWAY_DR_FLO\n",
      "50__KENDALL_LN_FLO\n",
      "50__DOROTHY_LN_FLO\n",
      "50__DARLINGS_LP_FLO\n",
      "50_S_PIONEER_RD_FLO\n",
      "50__PACIFIC_AVE_WEL\n",
      "50__SPRUCE_ST_WEL\n",
      "50__LAKE_BLVD_WEL\n",
      "50__SUMMIT_AVE_WEL\n",
      "50__MEADOW LAKE_WAY_FLO\n",
      "50__CLEARWATER COVE_WAY_FLO\n",
      "50__SAUTER_DR_FLO\n",
      "50__LAUREL_AVE_WEL\n",
      "50__FIR_ST_WEL\n"
     ]
    },
    {
     "ename": "ValueError",
     "evalue": "The truth value of a Series is ambiguous. Use a.empty, a.bool(), a.item(), a.any() or a.all().",
     "output_type": "error",
     "traceback": [
      "\u001b[1;31m---------------------------------------------------------------------------\u001b[0m",
      "\u001b[1;31mValueError\u001b[0m                                Traceback (most recent call last)",
      "\u001b[1;32m<ipython-input-92-7595ad186860>\u001b[0m in \u001b[0;36m<module>\u001b[1;34m\u001b[0m\n\u001b[0;32m     18\u001b[0m             \u001b[0mgdf\u001b[0m\u001b[1;33m.\u001b[0m\u001b[0mloc\u001b[0m\u001b[1;33m[\u001b[0m\u001b[1;33m(\u001b[0m\u001b[0mgdf\u001b[0m\u001b[1;33m.\u001b[0m\u001b[0mKEY\u001b[0m \u001b[1;33m==\u001b[0m \u001b[0mkey\u001b[0m\u001b[1;33m)\u001b[0m \u001b[1;33m&\u001b[0m \u001b[1;33m(\u001b[0m\u001b[0mgdf\u001b[0m\u001b[1;33m.\u001b[0m\u001b[0mHouseNbr\u001b[0m \u001b[1;33m<\u001b[0m \u001b[0mie_sdf\u001b[0m\u001b[1;33m.\u001b[0m\u001b[0mLOW\u001b[0m\u001b[1;33m.\u001b[0m\u001b[0mvalues\u001b[0m\u001b[1;33m[\u001b[0m\u001b[1;36m0\u001b[0m\u001b[1;33m]\u001b[0m\u001b[1;33m)\u001b[0m\u001b[1;33m,\u001b[0m \u001b[1;34m'DIFF'\u001b[0m\u001b[1;33m]\u001b[0m \u001b[1;33m=\u001b[0m \u001b[1;36m3\u001b[0m\u001b[1;33m\u001b[0m\u001b[1;33m\u001b[0m\u001b[0m\n\u001b[0;32m     19\u001b[0m             \u001b[0mgdf\u001b[0m\u001b[1;33m.\u001b[0m\u001b[0mloc\u001b[0m\u001b[1;33m[\u001b[0m\u001b[1;33m(\u001b[0m\u001b[0mgdf\u001b[0m\u001b[1;33m.\u001b[0m\u001b[0mKEY\u001b[0m \u001b[1;33m==\u001b[0m \u001b[0mkey\u001b[0m\u001b[1;33m)\u001b[0m \u001b[1;33m&\u001b[0m \u001b[1;33m(\u001b[0m\u001b[0mgdf\u001b[0m\u001b[1;33m.\u001b[0m\u001b[0mHouseNbr\u001b[0m \u001b[1;33m<\u001b[0m \u001b[0mie_sdf\u001b[0m\u001b[1;33m.\u001b[0m\u001b[0mLOW\u001b[0m\u001b[1;33m.\u001b[0m\u001b[0mvalues\u001b[0m\u001b[1;33m[\u001b[0m\u001b[1;36m0\u001b[0m\u001b[1;33m]\u001b[0m\u001b[1;33m)\u001b[0m\u001b[1;33m,\u001b[0m \u001b[1;34m'MATCH'\u001b[0m\u001b[1;33m]\u001b[0m \u001b[1;33m=\u001b[0m \u001b[1;34m'Outside of house number range in the low value'\u001b[0m\u001b[1;33m\u001b[0m\u001b[1;33m\u001b[0m\u001b[0m\n\u001b[1;32m---> 20\u001b[1;33m             \u001b[0mgdf\u001b[0m\u001b[1;33m.\u001b[0m\u001b[0mloc\u001b[0m\u001b[1;33m[\u001b[0m\u001b[1;33m(\u001b[0m\u001b[0mgdf\u001b[0m\u001b[1;33m.\u001b[0m\u001b[0mKEY\u001b[0m \u001b[1;33m==\u001b[0m \u001b[0mkey\u001b[0m\u001b[1;33m)\u001b[0m \u001b[1;33m&\u001b[0m \u001b[1;33m(\u001b[0m\u001b[0mie_sdf\u001b[0m\u001b[1;33m.\u001b[0m\u001b[0mHIGH\u001b[0m\u001b[1;33m.\u001b[0m\u001b[0mvalues\u001b[0m\u001b[1;33m[\u001b[0m\u001b[1;36m0\u001b[0m\u001b[1;33m]\u001b[0m \u001b[1;33m>=\u001b[0m \u001b[0mgdf\u001b[0m\u001b[1;33m.\u001b[0m\u001b[0mHouseNbr\u001b[0m \u001b[1;33m>=\u001b[0m \u001b[0mie_sdf\u001b[0m\u001b[1;33m.\u001b[0m\u001b[0mLOW\u001b[0m\u001b[1;33m.\u001b[0m\u001b[0mvalues\u001b[0m\u001b[1;33m[\u001b[0m\u001b[1;36m0\u001b[0m\u001b[1;33m]\u001b[0m\u001b[1;33m)\u001b[0m\u001b[1;33m,\u001b[0m \u001b[1;34m'DIFF'\u001b[0m\u001b[1;33m]\u001b[0m \u001b[1;33m=\u001b[0m \u001b[1;36m1\u001b[0m\u001b[1;33m\u001b[0m\u001b[1;33m\u001b[0m\u001b[0m\n\u001b[0m\u001b[0;32m     21\u001b[0m             \u001b[0mgdf\u001b[0m\u001b[1;33m.\u001b[0m\u001b[0mloc\u001b[0m\u001b[1;33m[\u001b[0m\u001b[1;33m(\u001b[0m\u001b[0mgdf\u001b[0m\u001b[1;33m.\u001b[0m\u001b[0mKEY\u001b[0m \u001b[1;33m==\u001b[0m \u001b[0mkey\u001b[0m\u001b[1;33m)\u001b[0m \u001b[1;33m&\u001b[0m \u001b[1;33m(\u001b[0m\u001b[0mie_sdf\u001b[0m\u001b[1;33m.\u001b[0m\u001b[0mHIGH\u001b[0m\u001b[1;33m.\u001b[0m\u001b[0mvalues\u001b[0m\u001b[1;33m[\u001b[0m\u001b[1;36m0\u001b[0m\u001b[1;33m]\u001b[0m \u001b[1;33m>=\u001b[0m \u001b[0mgdf\u001b[0m\u001b[1;33m.\u001b[0m\u001b[0mHouseNbr\u001b[0m \u001b[1;33m>=\u001b[0m \u001b[0mie_sdf\u001b[0m\u001b[1;33m.\u001b[0m\u001b[0mLOW\u001b[0m\u001b[1;33m.\u001b[0m\u001b[0mvalues\u001b[0m\u001b[1;33m[\u001b[0m\u001b[1;36m0\u001b[0m\u001b[1;33m]\u001b[0m\u001b[1;33m)\u001b[0m\u001b[1;33m,\u001b[0m \u001b[1;34m'MATCH'\u001b[0m\u001b[1;33m]\u001b[0m \u001b[1;33m=\u001b[0m \u001b[1;34m'Matched, within the house number range, but the low end in the same street is outside of range'\u001b[0m\u001b[1;33m\u001b[0m\u001b[1;33m\u001b[0m\u001b[0m\n\u001b[0;32m     22\u001b[0m         \u001b[1;32melif\u001b[0m \u001b[0mhnbr_max\u001b[0m \u001b[1;33m>\u001b[0m \u001b[0mie_sdf\u001b[0m\u001b[1;33m.\u001b[0m\u001b[0mHIGH\u001b[0m\u001b[1;33m.\u001b[0m\u001b[0mvalues\u001b[0m\u001b[1;33m[\u001b[0m\u001b[1;36m0\u001b[0m\u001b[1;33m]\u001b[0m \u001b[1;32mand\u001b[0m \u001b[0mhnbr_min\u001b[0m \u001b[1;33m<\u001b[0m \u001b[0mie_sdf\u001b[0m\u001b[1;33m.\u001b[0m\u001b[0mLOW\u001b[0m\u001b[1;33m.\u001b[0m\u001b[0mvalues\u001b[0m\u001b[1;33m[\u001b[0m\u001b[1;36m0\u001b[0m\u001b[1;33m]\u001b[0m\u001b[1;33m:\u001b[0m\u001b[1;33m\u001b[0m\u001b[1;33m\u001b[0m\u001b[0m\n",
      "\u001b[1;32m~\\.conda\\envs\\geoenv\\lib\\site-packages\\pandas\\core\\generic.py\u001b[0m in \u001b[0;36m__nonzero__\u001b[1;34m(self)\u001b[0m\n\u001b[0;32m   1440\u001b[0m     \u001b[1;33m@\u001b[0m\u001b[0mfinal\u001b[0m\u001b[1;33m\u001b[0m\u001b[1;33m\u001b[0m\u001b[0m\n\u001b[0;32m   1441\u001b[0m     \u001b[1;32mdef\u001b[0m \u001b[0m__nonzero__\u001b[0m\u001b[1;33m(\u001b[0m\u001b[0mself\u001b[0m\u001b[1;33m)\u001b[0m\u001b[1;33m:\u001b[0m\u001b[1;33m\u001b[0m\u001b[1;33m\u001b[0m\u001b[0m\n\u001b[1;32m-> 1442\u001b[1;33m         raise ValueError(\n\u001b[0m\u001b[0;32m   1443\u001b[0m             \u001b[1;34mf\"The truth value of a {type(self).__name__} is ambiguous. \"\u001b[0m\u001b[1;33m\u001b[0m\u001b[1;33m\u001b[0m\u001b[0m\n\u001b[0;32m   1444\u001b[0m             \u001b[1;34m\"Use a.empty, a.bool(), a.item(), a.any() or a.all().\"\u001b[0m\u001b[1;33m\u001b[0m\u001b[1;33m\u001b[0m\u001b[0m\n",
      "\u001b[1;31mValueError\u001b[0m: The truth value of a Series is ambiguous. Use a.empty, a.bool(), a.item(), a.any() or a.all()."
     ]
    }
   ],
   "source": [
    "start = timeit.default_timer()\n",
    "for key in commonKeys:\n",
    "    print(key)\n",
    "    ap_sdf = gdf[gdf.KEY == key]\n",
    "    hnbr_min = ap_sdf.HouseNbr.values.min()\n",
    "    hnbr_max = ap_sdf.HouseNbr.values.max()\n",
    "    ie_sdf = intrado[intrado.KEY==key]\n",
    "    if ie_sdf.shape[0] == 1:\n",
    "        if hnbr_min >= ie_sdf.LOW.values[0] and hnbr_max <= ie_sdf.HIGH.values[0]:\n",
    "            gdf.loc[gdf.KEY == key, 'DIFF'] = 1\n",
    "            gdf.loc[gdf.KEY == key, 'MATCH'] = 'Exactly matched'\n",
    "        elif hnbr_max > ie_sdf.HIGH.values[0] and hnbr_min >= ie_sdf.LOW.values[0]:\n",
    "            gdf.loc[(gdf.KEY == key) & (gdf.HouseNbr > ie_sdf.HIGH.values[0]), 'DIFF'] = 2\n",
    "            gdf.loc[(gdf.KEY == key) & (gdf.HouseNbr > ie_sdf.HIGH.values[0]), 'MATCH'] = 'Outside of house number range in the high value'\n",
    "            gdf.loc[(gdf.KEY == key) & (ie_sdf.HIGH.values[0] >= gdf.HouseNbr >= ie_sdf.LOW.values[0]), 'DIFF'] = 1\n",
    "            gdf.loc[(gdf.KEY == key) & (ie_sdf.HIGH.values[0] >= gdf.HouseNbr >= ie_sdf.LOW.values[0]), 'MATCH'] = 'Matched, within the house number range, but the high end in the same street is outside of range'\n",
    "        elif hnbr_min < ie_sdf.LOW.values[0] and hnbr_max <= ie_sdf.HIGH.values[0]:\n",
    "            gdf.loc[(gdf.KEY == key) & (gdf.HouseNbr < ie_sdf.LOW.values[0]), 'DIFF'] = 3\n",
    "            gdf.loc[(gdf.KEY == key) & (gdf.HouseNbr < ie_sdf.LOW.values[0]), 'MATCH'] = 'Outside of house number range in the low value'\n",
    "            gdf.loc[(gdf.KEY == key) & (ie_sdf.HIGH.values[0] >= gdf.HouseNbr >= ie_sdf.LOW.values[0]), 'DIFF'] = 1\n",
    "            gdf.loc[(gdf.KEY == key) & (ie_sdf.HIGH.values[0] >= gdf.HouseNbr >= ie_sdf.LOW.values[0]), 'MATCH'] = 'Matched, within the house number range, but the low end in the same street is outside of range'\n",
    "        elif hnbr_max > ie_sdf.HIGH.values[0] and hnbr_min < ie_sdf.LOW.values[0]:\n",
    "            gdf.loc[(gdf.KEY == key) & (gdf.HouseNbr > ie_sdf.HIGH.values[0]), 'DIFF'] = 2\n",
    "            gdf.loc[(gdf.KEY == key) & (gdf.HouseNbr > ie_sdf.HIGH.values[0]), 'MATCH'] = 'Outside of house number range in the high value'\n",
    "            gdf.loc[(gdf.KEY == key) & (gdf.HouseNbr < ie_sdf.LOW.values[0]), 'DIFF'] = 3\n",
    "            gdf.loc[(gdf.KEY == key) & (gdf.HouseNbr < ie_sdf.LOW.values[0]), 'MATCH'] = 'Outside of house number range in the low value'\n",
    "            gdf.loc[(gdf.KEY == key) & (ie_sdf.HIGH.values[0] >= gdf.HouseNbr >= ie_sdf.LOW.values[0]), 'DIFF'] = 1\n",
    "            gdf.loc[(gdf.KEY == key) & (ie_sdf.HIGH.values[0] >= gdf.HouseNbr >= ie_sdf.LOW.values[0]), 'MATCH'] = 'Matched, within the house number range, but both high and low ends in the same street are outside of range'\n",
    "    else:\n",
    "        if hnbr_max > ie_sdf.HIGH.values[ie_sdf.shape[0]-1]:\n",
    "            gdf.loc[(gdf.KEY == key) & (gdf.HouseNbr > ie_sdf.HIGH.values[ie_sdf.shape[0]-1]), 'DIFF'] = 2\n",
    "            gdf.loc[(gdf.KEY == key) & (gdf.HouseNbr > ie_sdf.HIGH.values[ie_sdf.shape[0]-1]), 'MATCH'] = 'Outside of the multiple house number ranges in the high value'\n",
    "        elif hnbr_min < ie_sdf.LOW.values[0]:\n",
    "            gdf.loc[(gdf.KEY == key) & (gdf.HouseNbr < ie_sdf.LOW.values[0]), 'DIFF'] = 3\n",
    "            gdf.loc[(gdf.KEY == key) & (gdf.HouseNbr < ie_sdf.LOW.values[0]), 'MATCH'] = 'Outside of the multiple house number ranges in the low value'\n",
    "        else:\n",
    "            gdf.loc[gdf.KEY == key, 'DIFF'] = ap_sdf.HouseNbr.apply(lambda x: withinRange(x, ie_sdf=ie_sdf)[0])\n",
    "            gdf.loc[gdf.KEY == key, 'MATCH'] = ap_sdf.HouseNbr.apply(lambda x: withinRange(x, ie_sdf=ie_sdf)[1])\n",
    "stop = timeit.default_timer()\n",
    "print(stop - start)"
   ]
  },
  {
   "cell_type": "code",
   "execution_count": null,
   "id": "07ad73c9",
   "metadata": {},
   "outputs": [],
   "source": []
  }
 ],
 "metadata": {
  "kernelspec": {
   "display_name": "Python 3",
   "language": "python",
   "name": "python3"
  },
  "language_info": {
   "codemirror_mode": {
    "name": "ipython",
    "version": 3
   },
   "file_extension": ".py",
   "mimetype": "text/x-python",
   "name": "python",
   "nbconvert_exporter": "python",
   "pygments_lexer": "ipython3",
   "version": "3.8.8"
  }
 },
 "nbformat": 4,
 "nbformat_minor": 5
}
