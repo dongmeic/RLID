{
 "cells": [
  {
   "cell_type": "code",
   "execution_count": 1,
   "metadata": {},
   "outputs": [],
   "source": [
    "import arcpy, os, timeit\n",
    "from arcpy import env"
   ]
  },
  {
   "cell_type": "code",
   "execution_count": 2,
   "metadata": {},
   "outputs": [],
   "source": [
    "MSAGrange = os.path.join(r'G:\\projects\\Address_Points\\9-1-1_Net', 'MSAG_range_match.shp')"
   ]
  },
  {
   "cell_type": "code",
   "execution_count": 3,
   "metadata": {},
   "outputs": [],
   "source": [
    "AddressPoints = os.path.join(r'G:\\projects\\Address_Points\\9-1-1_Net', 'AddressPoints.shp')"
   ]
  },
  {
   "cell_type": "code",
   "execution_count": 4,
   "metadata": {},
   "outputs": [],
   "source": [
    "arcpy.MakeFeatureLayer_management(AddressPoints,\"AddressPoints\")\n",
    "fieldList = arcpy.ListFields(\"AddressPoints\")\n",
    "field_names = [f.name for f in fieldList]\n",
    "newfields = [\"DIFF\", \"MATCH\"]\n",
    "for newfield in newfields:\n",
    "    if newfield in field_names:\n",
    "        pass\n",
    "    else:\n",
    "        if newfield == \"DIFF\":\n",
    "            arcpy.AddField_management(\"AddressPoints\", newfield, \"SHORT\", \"\", \"\", 10)\n",
    "        else:\n",
    "            arcpy.AddField_management(\"AddressPoints\", newfield, \"TEXT\", \"\", \"\", 1000)     "
   ]
  },
  {
   "cell_type": "code",
   "execution_count": 5,
   "metadata": {},
   "outputs": [
    {
     "data": {
      "text/html": [
       "<h2>Output</h2>a Layer object<h2>Messages</h2>Start Time: Thursday, June 24, 2021 10:52:53 AM<br/>Succeeded at Thursday, June 24, 2021 10:52:53 AM (Elapsed Time: 0.06 seconds)<br/><style>.rendered_html td, .rendered_html th {text-align: left;}.rendered_html tbody {border: 1px solid black;}</style>"
      ],
      "text/plain": [
       "<Result 'ExactMatch'>"
      ]
     },
     "execution_count": 5,
     "metadata": {},
     "output_type": "execute_result"
    }
   ],
   "source": [
    "arcpy.MakeFeatureLayer_management(MSAGrange,\"ExactMatch\")"
   ]
  },
  {
   "cell_type": "code",
   "execution_count": 6,
   "metadata": {},
   "outputs": [
    {
     "data": {
      "text/html": [
       "<h2>Output</h2><table><tr><th>id</th><th>value</th></tr><tr><td>0</td><td>a Layer object</td></tr><tr><td>1</td><td>7333</td></tr></table><h2>Messages</h2>Start Time: Thursday, June 24, 2021 10:53:00 AM<br/>Succeeded at Thursday, June 24, 2021 10:53:00 AM (Elapsed Time: 0.07 seconds)<br/><style>.rendered_html td, .rendered_html th {text-align: left;}.rendered_html tbody {border: 1px solid black;}</style>"
      ],
      "text/plain": [
       "<Result 'ExactMatch'>"
      ]
     },
     "execution_count": 6,
     "metadata": {},
     "output_type": "execute_result"
    }
   ],
   "source": [
    "arcpy.SelectLayerByAttribute_management(\"ExactMatch\", \"NEW_SELECTION\", \"DIFF = 1\")"
   ]
  },
  {
   "cell_type": "code",
   "execution_count": 7,
   "metadata": {},
   "outputs": [
    {
     "data": {
      "text/html": [
       "<h2>Output</h2><table><tr><th>id</th><th>value</th></tr><tr><td>0</td><td>a Layer object</td></tr><tr><td>1</td><td>AddressPoints</td></tr><tr><td>2</td><td>172982</td></tr></table><h2>Messages</h2>Start Time: Thursday, June 24, 2021 10:53:10 AM<br/>Succeeded at Thursday, June 24, 2021 10:53:14 AM (Elapsed Time: 4.40 seconds)<br/><style>.rendered_html td, .rendered_html th {text-align: left;}.rendered_html tbody {border: 1px solid black;}</style>"
      ],
      "text/plain": [
       "<Result 'AddressPoints'>"
      ]
     },
     "execution_count": 7,
     "metadata": {},
     "output_type": "execute_result"
    }
   ],
   "source": [
    "arcpy.SelectLayerByLocation_management(\"AddressPoints\", \"INTERSECT\", \"ExactMatch\", \"\", \"NEW_SELECTION\")"
   ]
  },
  {
   "cell_type": "code",
   "execution_count": 8,
   "metadata": {},
   "outputs": [],
   "source": [
    "with arcpy.da.UpdateCursor(\"AddressPoints\", ['DIFF', 'MATCH']) as cursor:\n",
    "    for row in cursor:\n",
    "        row[0] = 1\n",
    "        row[1] = \"Exactly matched\"\n",
    "        cursor.updateRow(row)\n",
    "del row\n",
    "del cursor"
   ]
  },
  {
   "cell_type": "code",
   "execution_count": 9,
   "metadata": {},
   "outputs": [
    {
     "data": {
      "text/html": [
       "<h2>Output</h2><table><tr><th>id</th><th>value</th></tr><tr><td>0</td><td>a Layer object</td></tr><tr><td>1</td><td>-1</td></tr></table><h2>Messages</h2>Start Time: Thursday, June 24, 2021 10:53:33 AM<br/>Succeeded at Thursday, June 24, 2021 10:53:33 AM (Elapsed Time: 0.01 seconds)<br/><style>.rendered_html td, .rendered_html th {text-align: left;}.rendered_html tbody {border: 1px solid black;}</style>"
      ],
      "text/plain": [
       "<Result 'AddressPoints'>"
      ]
     },
     "execution_count": 9,
     "metadata": {},
     "output_type": "execute_result"
    }
   ],
   "source": [
    "arcpy.SelectLayerByAttribute_management(\"AddressPoints\", \"CLEAR_SELECTION\")"
   ]
  },
  {
   "cell_type": "code",
   "execution_count": 10,
   "metadata": {},
   "outputs": [],
   "source": [
    "MSAG_mismatch = os.path.join(r'G:\\projects\\Address_Points\\9-1-1_Net', 'MSAG_mismatch.shp')"
   ]
  },
  {
   "cell_type": "code",
   "execution_count": 11,
   "metadata": {},
   "outputs": [],
   "source": [
    "MisMatch = arcpy.MakeFeatureLayer_management(MSAG_mismatch,\"MSAG_mismatch\")"
   ]
  },
  {
   "cell_type": "code",
   "execution_count": 12,
   "metadata": {},
   "outputs": [
    {
     "name": "stdout",
     "output_type": "stream",
     "text": [
      "211.3830094\n"
     ]
    }
   ],
   "source": [
    "start = timeit.default_timer()\n",
    "with arcpy.da.UpdateCursor(MisMatch, ['FID', \"DIFF\", 'MATCH']) as cursor1:\n",
    "    for row1 in cursor1:\n",
    "        selected = arcpy.SelectLayerByAttribute_management(MisMatch, \"NEW_SELECTION\", \"FID = {0}\".format(row1[0]))\n",
    "        arcpy.SelectLayerByLocation_management(\"AddressPoints\", \"INTERSECT\", selected, \"\", \"NEW_SELECTION\")   \n",
    "        with arcpy.da.UpdateCursor(\"AddressPoints\", [\"DIFF\", \"MATCH\"]) as cursor2:\n",
    "            for row2 in cursor2:\n",
    "                row2[0] = row1[1]\n",
    "                row2[1] = row1[2]\n",
    "                cursor2.updateRow(row2)\n",
    "del row1\n",
    "del cursor1\n",
    "del row2\n",
    "del cursor2\n",
    "stop = timeit.default_timer()\n",
    "print(stop - start)"
   ]
  },
  {
   "cell_type": "code",
   "execution_count": null,
   "metadata": {},
   "outputs": [],
   "source": []
  }
 ],
 "metadata": {
  "kernelspec": {
   "display_name": "Python 3",
   "language": "python",
   "name": "python3"
  },
  "language_info": {
   "codemirror_mode": {
    "name": "ipython",
    "version": 3
   },
   "file_extension": ".py",
   "mimetype": "text/x-python",
   "name": "python",
   "nbconvert_exporter": "python",
   "pygments_lexer": "ipython3",
   "version": "3.8.8"
  }
 },
 "nbformat": 4,
 "nbformat_minor": 4
}
